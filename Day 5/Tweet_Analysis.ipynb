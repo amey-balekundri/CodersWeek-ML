{
  "nbformat": 4,
  "nbformat_minor": 0,
  "metadata": {
    "colab": {
      "name": "Tweet Analysis.ipynb",
      "provenance": [],
      "collapsed_sections": []
    },
    "kernelspec": {
      "name": "python3",
      "display_name": "Python 3"
    }
  },
  "cells": [
    {
      "cell_type": "code",
      "metadata": {
        "id": "I2JJOUDlqM7S",
        "colab_type": "code",
        "colab": {}
      },
      "source": [
        "import tweepy\n",
        "consumer_key = \"\" \n",
        "consumer_secret = \"\"\n",
        "access_key = \"\"\n",
        "access_secret = \"\"\n",
        "username='@realDonaldTrump'"
      ],
      "execution_count": 0,
      "outputs": []
    },
    {
      "cell_type": "code",
      "metadata": {
        "id": "9G4HZsvzG4wC",
        "colab_type": "code",
        "colab": {}
      },
      "source": [
        "auth = tweepy.OAuthHandler(consumer_key, consumer_secret)\n",
        "auth.set_access_token(access_key, access_secret)\n",
        "api = tweepy.API(auth)\n",
        "tweets = api.user_timeline(screen_name=username,count=200,include_rts = False,tweet_mode = 'extended')"
      ],
      "execution_count": 0,
      "outputs": []
    },
    {
      "cell_type": "code",
      "metadata": {
        "id": "7txedVMJGVer",
        "colab_type": "code",
        "outputId": "50fa8fa0-5f30-4988-e986-e744a697c6f4",
        "colab": {
          "base_uri": "https://localhost:8080/",
          "height": 290
        }
      },
      "source": [
        "all_tweets = []\n",
        "all_tweets.extend(tweets)\n",
        "oldest_id = tweets[-1].id\n",
        "while True:\n",
        "    tweets = api.user_timeline(screen_name=username,count=200,include_rts = False,max_id = oldest_id - 1,tweet_mode = 'extended')\n",
        "    if len(tweets) == 0:\n",
        "        break\n",
        "    oldest_id = tweets[-1].id\n",
        "    all_tweets.extend(tweets)\n",
        "    print('tweets downloaded till now {}'.format(len(all_tweets)))"
      ],
      "execution_count": 0,
      "outputs": [
        {
          "output_type": "stream",
          "text": [
            "tweets downloaded till now 138\n",
            "tweets downloaded till now 224\n",
            "tweets downloaded till now 341\n",
            "tweets downloaded till now 462\n",
            "tweets downloaded till now 550\n",
            "tweets downloaded till now 616\n",
            "tweets downloaded till now 714\n",
            "tweets downloaded till now 805\n",
            "tweets downloaded till now 886\n",
            "tweets downloaded till now 979\n",
            "tweets downloaded till now 1065\n",
            "tweets downloaded till now 1173\n",
            "tweets downloaded till now 1215\n",
            "tweets downloaded till now 1288\n",
            "tweets downloaded till now 1388\n",
            "tweets downloaded till now 1451\n"
          ],
          "name": "stdout"
        }
      ]
    },
    {
      "cell_type": "code",
      "metadata": {
        "id": "DTT4Lhcl_ihT",
        "colab_type": "code",
        "colab": {}
      },
      "source": [
        "import pandas as pd\n",
        "t = [[tweet.id_str, tweet.created_at, tweet.favorite_count,tweet.retweet_count,tweet.full_text.encode(\"utf-8\").decode(\"utf-8\")] for idx,tweet in enumerate(all_tweets)]\n",
        "df = pd.DataFrame(t,columns=[\"id\",\"created_at\",\"favorite_count\",\"retweet_count\", \"text\"])"
      ],
      "execution_count": 0,
      "outputs": []
    },
    {
      "cell_type": "code",
      "metadata": {
        "id": "Kn_bno2DBI0c",
        "colab_type": "code",
        "outputId": "eaf8ae5b-d353-4e4b-c48b-2a024b9c6662",
        "colab": {
          "base_uri": "https://localhost:8080/",
          "height": 688
        }
      },
      "source": [
        "df"
      ],
      "execution_count": 0,
      "outputs": [
        {
          "output_type": "execute_result",
          "data": {
            "text/html": [
              "<div>\n",
              "<style scoped>\n",
              "    .dataframe tbody tr th:only-of-type {\n",
              "        vertical-align: middle;\n",
              "    }\n",
              "\n",
              "    .dataframe tbody tr th {\n",
              "        vertical-align: top;\n",
              "    }\n",
              "\n",
              "    .dataframe thead th {\n",
              "        text-align: right;\n",
              "    }\n",
              "</style>\n",
              "<table border=\"1\" class=\"dataframe\">\n",
              "  <thead>\n",
              "    <tr style=\"text-align: right;\">\n",
              "      <th></th>\n",
              "      <th>id</th>\n",
              "      <th>created_at</th>\n",
              "      <th>favorite_count</th>\n",
              "      <th>retweet_count</th>\n",
              "      <th>text</th>\n",
              "    </tr>\n",
              "  </thead>\n",
              "  <tbody>\n",
              "    <tr>\n",
              "      <th>0</th>\n",
              "      <td>1269452057737641984</td>\n",
              "      <td>2020-06-07 02:12:10</td>\n",
              "      <td>91774</td>\n",
              "      <td>21808</td>\n",
              "      <td>.@CNN &amp;amp; MSDNC are doing everything possibl...</td>\n",
              "    </tr>\n",
              "    <tr>\n",
              "      <th>1</th>\n",
              "      <td>1269451304503574528</td>\n",
              "      <td>2020-06-07 02:09:10</td>\n",
              "      <td>128331</td>\n",
              "      <td>25098</td>\n",
              "      <td>Much smaller crowd in D.C. than anticipated. N...</td>\n",
              "    </tr>\n",
              "    <tr>\n",
              "      <th>2</th>\n",
              "      <td>1269400770472001539</td>\n",
              "      <td>2020-06-06 22:48:22</td>\n",
              "      <td>234614</td>\n",
              "      <td>45227</td>\n",
              "      <td>LAW &amp;amp; ORDER!</td>\n",
              "    </tr>\n",
              "    <tr>\n",
              "      <th>3</th>\n",
              "      <td>1269396484048465921</td>\n",
              "      <td>2020-06-06 22:31:20</td>\n",
              "      <td>174046</td>\n",
              "      <td>32422</td>\n",
              "      <td>Wow! 96% Approval Rating in the Republican Par...</td>\n",
              "    </tr>\n",
              "    <tr>\n",
              "      <th>4</th>\n",
              "      <td>1269357552854327296</td>\n",
              "      <td>2020-06-06 19:56:38</td>\n",
              "      <td>53940</td>\n",
              "      <td>19158</td>\n",
              "      <td>https://t.co/hJSsx86Azp</td>\n",
              "    </tr>\n",
              "    <tr>\n",
              "      <th>...</th>\n",
              "      <td>...</td>\n",
              "      <td>...</td>\n",
              "      <td>...</td>\n",
              "      <td>...</td>\n",
              "      <td>...</td>\n",
              "    </tr>\n",
              "    <tr>\n",
              "      <th>1446</th>\n",
              "      <td>1234909058529943552</td>\n",
              "      <td>2020-03-03 18:30:37</td>\n",
              "      <td>47532</td>\n",
              "      <td>10750</td>\n",
              "      <td>I commend the hard work of Senator @SteveDaine...</td>\n",
              "    </tr>\n",
              "    <tr>\n",
              "      <th>1447</th>\n",
              "      <td>1234894925004779520</td>\n",
              "      <td>2020-03-03 17:34:28</td>\n",
              "      <td>50830</td>\n",
              "      <td>12310</td>\n",
              "      <td>#PrayForNashville https://t.co/cja0lMG6VC</td>\n",
              "    </tr>\n",
              "    <tr>\n",
              "      <th>1448</th>\n",
              "      <td>1234893805389844481</td>\n",
              "      <td>2020-03-03 17:30:01</td>\n",
              "      <td>40322</td>\n",
              "      <td>9603</td>\n",
              "      <td>It was my great honor to address the National ...</td>\n",
              "    </tr>\n",
              "    <tr>\n",
              "      <th>1449</th>\n",
              "      <td>1234869067892305923</td>\n",
              "      <td>2020-03-03 15:51:43</td>\n",
              "      <td>77586</td>\n",
              "      <td>18805</td>\n",
              "      <td>The Federal Reserve is cutting but must furthe...</td>\n",
              "    </tr>\n",
              "    <tr>\n",
              "      <th>1450</th>\n",
              "      <td>1234853287712694272</td>\n",
              "      <td>2020-03-03 14:49:00</td>\n",
              "      <td>60046</td>\n",
              "      <td>14155</td>\n",
              "      <td>Prayers for all of those affected by the devas...</td>\n",
              "    </tr>\n",
              "  </tbody>\n",
              "</table>\n",
              "<p>1451 rows × 5 columns</p>\n",
              "</div>"
            ],
            "text/plain": [
              "                       id  ...                                               text\n",
              "0     1269452057737641984  ...  .@CNN &amp; MSDNC are doing everything possibl...\n",
              "1     1269451304503574528  ...  Much smaller crowd in D.C. than anticipated. N...\n",
              "2     1269400770472001539  ...                                   LAW &amp; ORDER!\n",
              "3     1269396484048465921  ...  Wow! 96% Approval Rating in the Republican Par...\n",
              "4     1269357552854327296  ...                            https://t.co/hJSsx86Azp\n",
              "...                   ...  ...                                                ...\n",
              "1446  1234909058529943552  ...  I commend the hard work of Senator @SteveDaine...\n",
              "1447  1234894925004779520  ...          #PrayForNashville https://t.co/cja0lMG6VC\n",
              "1448  1234893805389844481  ...  It was my great honor to address the National ...\n",
              "1449  1234869067892305923  ...  The Federal Reserve is cutting but must furthe...\n",
              "1450  1234853287712694272  ...  Prayers for all of those affected by the devas...\n",
              "\n",
              "[1451 rows x 5 columns]"
            ]
          },
          "metadata": {
            "tags": []
          },
          "execution_count": 5
        }
      ]
    },
    {
      "cell_type": "code",
      "metadata": {
        "id": "gZ12z6sO3oq0",
        "colab_type": "code",
        "colab": {}
      },
      "source": [
        "from textblob import TextBlob\n",
        "bloblist = list()                                 \n",
        " \n",
        "for row in df['text'].astype(str):\n",
        "    blob = TextBlob(row)\n",
        "    bloblist.append((row,blob.sentiment.polarity, blob.sentiment.subjectivity))\n",
        "    df_tweet = pd.DataFrame(bloblist, columns = ['sentence','polarity','subjectivity'])\n",
        "    \n",
        "def f(df_tweet):\n",
        "    if df_tweet['polarity'] > 0:\n",
        "        val = \"Positive\"\n",
        "    elif df_tweet['polarity'] == 0:\n",
        "        val = \"Neutral\"\n",
        "    else:\n",
        "        val = \"Negative\"\n",
        "    return val\n",
        " \n",
        "df_tweet['Sentiment_Type'] = df_tweet.apply(f, axis=1)"
      ],
      "execution_count": 0,
      "outputs": []
    },
    {
      "cell_type": "code",
      "metadata": {
        "id": "I6s7b7LNKNeG",
        "colab_type": "code",
        "outputId": "ac662099-3a50-4e70-9593-6b4f28cc3d3b",
        "colab": {
          "base_uri": "https://localhost:8080/",
          "height": 323
        }
      },
      "source": [
        "df_tweet.head()"
      ],
      "execution_count": 0,
      "outputs": [
        {
          "output_type": "execute_result",
          "data": {
            "text/html": [
              "<div>\n",
              "<style scoped>\n",
              "    .dataframe tbody tr th:only-of-type {\n",
              "        vertical-align: middle;\n",
              "    }\n",
              "\n",
              "    .dataframe tbody tr th {\n",
              "        vertical-align: top;\n",
              "    }\n",
              "\n",
              "    .dataframe thead th {\n",
              "        text-align: right;\n",
              "    }\n",
              "</style>\n",
              "<table border=\"1\" class=\"dataframe\">\n",
              "  <thead>\n",
              "    <tr style=\"text-align: right;\">\n",
              "      <th></th>\n",
              "      <th>sentence</th>\n",
              "      <th>polarity</th>\n",
              "      <th>subjectivity</th>\n",
              "      <th>Sentiment_Type</th>\n",
              "    </tr>\n",
              "  </thead>\n",
              "  <tbody>\n",
              "    <tr>\n",
              "      <th>0</th>\n",
              "      <td>.@CNN &amp;amp; MSDNC are doing everything possibl...</td>\n",
              "      <td>-0.002083</td>\n",
              "      <td>0.740</td>\n",
              "      <td>Negative</td>\n",
              "    </tr>\n",
              "    <tr>\n",
              "      <th>1</th>\n",
              "      <td>Much smaller crowd in D.C. than anticipated. N...</td>\n",
              "      <td>0.033333</td>\n",
              "      <td>0.700</td>\n",
              "      <td>Positive</td>\n",
              "    </tr>\n",
              "    <tr>\n",
              "      <th>2</th>\n",
              "      <td>LAW &amp;amp; ORDER!</td>\n",
              "      <td>0.000000</td>\n",
              "      <td>0.000</td>\n",
              "      <td>Neutral</td>\n",
              "    </tr>\n",
              "    <tr>\n",
              "      <th>3</th>\n",
              "      <td>Wow! 96% Approval Rating in the Republican Par...</td>\n",
              "      <td>0.562500</td>\n",
              "      <td>0.875</td>\n",
              "      <td>Positive</td>\n",
              "    </tr>\n",
              "    <tr>\n",
              "      <th>4</th>\n",
              "      <td>https://t.co/hJSsx86Azp</td>\n",
              "      <td>0.000000</td>\n",
              "      <td>0.000</td>\n",
              "      <td>Neutral</td>\n",
              "    </tr>\n",
              "  </tbody>\n",
              "</table>\n",
              "</div>"
            ],
            "text/plain": [
              "                                            sentence  ...  Sentiment_Type\n",
              "0  .@CNN &amp; MSDNC are doing everything possibl...  ...        Negative\n",
              "1  Much smaller crowd in D.C. than anticipated. N...  ...        Positive\n",
              "2                                   LAW &amp; ORDER!  ...         Neutral\n",
              "3  Wow! 96% Approval Rating in the Republican Par...  ...        Positive\n",
              "4                            https://t.co/hJSsx86Azp  ...         Neutral\n",
              "\n",
              "[5 rows x 4 columns]"
            ]
          },
          "metadata": {
            "tags": []
          },
          "execution_count": 7
        }
      ]
    },
    {
      "cell_type": "code",
      "metadata": {
        "id": "kgfFs8q7hcdC",
        "colab_type": "code",
        "outputId": "cc1d25c6-7aaa-49f5-f843-db09ca0b3d00",
        "colab": {
          "base_uri": "https://localhost:8080/",
          "height": 418
        }
      },
      "source": [
        "import matplotlib.pyplot as plt\n",
        "import seaborn as sns\n",
        "plt.figure(figsize=(10,10))\n",
        "ax = sns.countplot(x=\"Sentiment_Type\", data=df_tweet,)"
      ],
      "execution_count": 0,
      "outputs": [
        {
          "output_type": "stream",
          "text": [
            "/usr/local/lib/python3.6/dist-packages/statsmodels/tools/_testing.py:19: FutureWarning: pandas.util.testing is deprecated. Use the functions in the public API at pandas.testing instead.\n",
            "  import pandas.util.testing as tm\n"
          ],
          "name": "stderr"
        },
        {
          "output_type": "display_data",
          "data": {
            "image/png": "[encoded data removed]",
            "text/plain": [
              "<Figure size 720x720 with 1 Axes>"
            ]
          },
          "metadata": {
            "tags": [],
            "needs_background": "light"
          }
        }
      ]
    },
    {
      "cell_type": "code",
      "metadata": {
        "id": "iM9HcCLHGOGF",
        "colab_type": "code",
        "outputId": "803e6909-7136-4eff-83e2-a7bcfee04e6c",
        "colab": {
          "base_uri": "https://localhost:8080/",
          "height": 68
        }
      },
      "source": [
        "print(\"Positive Tweet %:\",len(df_tweet[df_tweet['Sentiment_Type']=='Positive'])/len(df_tweet) *100)\n",
        "print(\"Neutral Tweet %:\",len(df_tweet[df_tweet['Sentiment_Type']=='Neutral'])/len(df_tweet) * 100)\n",
        "print(\"Negative Tweet %:\",len(df_tweet[df_tweet['Sentiment_Type']=='Negative'])/len(df_tweet) * 100)"
      ],
      "execution_count": 0,
      "outputs": [
        {
          "output_type": "stream",
          "text": [
            "Positive Tweet %: 51.34390075809786\n",
            "Neutral Tweet %: 27.842866988283944\n",
            "Negative Tweet %: 20.813232253618192\n"
          ],
          "name": "stdout"
        }
      ]
    },
    {
      "cell_type": "code",
      "metadata": {
        "id": "g_DPqvZ3yRUV",
        "colab_type": "code",
        "outputId": "f1f82212-9141-494c-ff69-4aa1f423ea86",
        "colab": {
          "base_uri": "https://localhost:8080/",
          "height": 54
        }
      },
      "source": [
        "df_tweet[df_tweet['Sentiment_Type']=='Negative']['sentence'][8]"
      ],
      "execution_count": 0,
      "outputs": [
        {
          "output_type": "execute_result",
          "data": {
            "text/plain": [
              "'“This is a flat out lie. They (the media) are making things up” @CharlesHurt  @IngrahamAngle The Lamestream Media is out of control. It would be impossible to fully explain how dishonest they are!'"
            ]
          },
          "metadata": {
            "tags": []
          },
          "execution_count": 10
        }
      ]
    }
  ]
}